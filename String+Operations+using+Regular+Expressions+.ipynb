{
 "cells": [
  {
   "cell_type": "code",
   "execution_count": 1,
   "metadata": {
    "collapsed": true
   },
   "outputs": [],
   "source": [
    "\"\"\" Regular Expressions in Python\n",
    "\n",
    "Regular Expression is a sequence of characters used mainly to find and replace patterns in the strings.\n",
    "\n",
    "Here are the common regular expressions:\n",
    "\n",
    "(1) Search a string (search and match) --->  re.match() & re.search() \n",
    "\n",
    "(2) Finding a string (findall) ----> re.findall()\n",
    "\n",
    "(3) Break string into sub strings (split) -----> re.split()\n",
    "\n",
    "(4) Replace part of a string (sub) -------> re.sub() & re.compile \"\"\"\n",
    "\n",
    "#pakage \"re\" will be used for regular expression operations\n",
    "\n",
    "import re\n"
   ]
  },
  {
   "cell_type": "code",
   "execution_count": 4,
   "metadata": {},
   "outputs": [],
   "source": [
    "\"\"\" re.match ---> This method finds match if it occurs at the start of the string. \n",
    "\n",
    "The r in below code snippet means that the string is to be treated as a raw string, which means all escape codes will be ignored.\n",
    "\n",
    "For example, '\\n' will be treated as a newline character, while r'\\n' will be treated as the characters \\ followed by n. \"\"\"\n",
    "\n",
    "result = re.match(r'John', 'John is playing in the ground.')\n"
   ]
  },
  {
   "cell_type": "code",
   "execution_count": 5,
   "metadata": {},
   "outputs": [
    {
     "name": "stdout",
     "output_type": "stream",
     "text": [
      "<_sre.SRE_Match object; span=(0, 4), match='John'>\n"
     ]
    }
   ],
   "source": [
    "\"\"\" Print the result to check if it matches or now \"\"\"\n",
    "\n",
    "print(result)"
   ]
  },
  {
   "cell_type": "code",
   "execution_count": 6,
   "metadata": {},
   "outputs": [
    {
     "name": "stdout",
     "output_type": "stream",
     "text": [
      "0\n"
     ]
    }
   ],
   "source": [
    "\"\"\" start() ---> This method returns the starting position of the matching pattern in the string \"\"\"\n",
    "\n",
    "print(result.start())"
   ]
  },
  {
   "cell_type": "code",
   "execution_count": 7,
   "metadata": {},
   "outputs": [
    {
     "name": "stdout",
     "output_type": "stream",
     "text": [
      "4\n"
     ]
    }
   ],
   "source": [
    "\"\"\" end() ---> This method returns the ending position of the matching pattern in the string \"\"\"\n",
    "\n",
    "print(result.end())"
   ]
  },
  {
   "cell_type": "code",
   "execution_count": 9,
   "metadata": {},
   "outputs": [
    {
     "name": "stdout",
     "output_type": "stream",
     "text": [
      "John\n"
     ]
    }
   ],
   "source": [
    "\"\"\" group(0) ---> This method returns the entire match  \"\"\"\n",
    "\n",
    "print(result.group(0))"
   ]
  },
  {
   "cell_type": "code",
   "execution_count": 10,
   "metadata": {
    "collapsed": true
   },
   "outputs": [],
   "source": [
    "\"\"\" If the matching pattern is not in the starting of the string, it will return no result \"\"\"\n",
    "\n",
    "result = re.match(r'is', 'John is playing in the ground.')"
   ]
  },
  {
   "cell_type": "code",
   "execution_count": 11,
   "metadata": {},
   "outputs": [
    {
     "name": "stdout",
     "output_type": "stream",
     "text": [
      "None\n"
     ]
    }
   ],
   "source": [
    "\"\"\" Print the result \"\"\"\n",
    "\n",
    "print(result)"
   ]
  },
  {
   "cell_type": "code",
   "execution_count": 24,
   "metadata": {
    "collapsed": true
   },
   "outputs": [],
   "source": [
    "\"\"\" re.search ---> This method is similar to match() but it does not restricts to find matches at the beginning of the string only. \"\"\"  \n",
    "\n",
    "result = re.search(r'ground', 'John is playing in the ground.')\n"
   ]
  },
  {
   "cell_type": "code",
   "execution_count": 25,
   "metadata": {},
   "outputs": [
    {
     "name": "stdout",
     "output_type": "stream",
     "text": [
      "<_sre.SRE_Match object; span=(23, 29), match='ground'>\n"
     ]
    }
   ],
   "source": [
    "\"\"\" Print the result \"\"\"\n",
    "\n",
    "print(result)"
   ]
  },
  {
   "cell_type": "code",
   "execution_count": 26,
   "metadata": {},
   "outputs": [
    {
     "name": "stdout",
     "output_type": "stream",
     "text": [
      "ground\n"
     ]
    }
   ],
   "source": [
    "\"\"\" Print the matching pattern \"\"\"\n",
    "\n",
    "print(result.group(0))"
   ]
  },
  {
   "cell_type": "code",
   "execution_count": 27,
   "metadata": {},
   "outputs": [
    {
     "name": "stdout",
     "output_type": "stream",
     "text": [
      "23\n"
     ]
    }
   ],
   "source": [
    "\"\"\" Print the starting position of the matching pattern in the string \"\"\"\n",
    "\n",
    "print(result.start())"
   ]
  },
  {
   "cell_type": "code",
   "execution_count": 28,
   "metadata": {},
   "outputs": [
    {
     "name": "stdout",
     "output_type": "stream",
     "text": [
      "29\n"
     ]
    }
   ],
   "source": [
    "\"\"\" Print the ending position of the matching pattern in the string \"\"\"\n",
    "\n",
    "print(result.end())"
   ]
  },
  {
   "cell_type": "code",
   "execution_count": 29,
   "metadata": {
    "collapsed": true
   },
   "outputs": [],
   "source": [
    " \"\"\" re.findall --> This method helps to get a list of all matching patterns. \n",
    "     \n",
    "It has not constraints of searching from start or end. \n",
    "\n",
    "Also, the main difference of this method with search() is that it will return not only the first but all the occurences of the matching pattern in the string. \"\"\" \n",
    "\n",
    "result = re.findall(r'John', 'John is playing in the ground. John loves playing baseball.')"
   ]
  },
  {
   "cell_type": "code",
   "execution_count": 31,
   "metadata": {},
   "outputs": [
    {
     "name": "stdout",
     "output_type": "stream",
     "text": [
      "['John', 'John']\n"
     ]
    }
   ],
   "source": [
    "\"\"\" Print the result \"\"\"\n",
    "\n",
    "print(result)"
   ]
  },
  {
   "cell_type": "code",
   "execution_count": 34,
   "metadata": {
    "collapsed": true
   },
   "outputs": [],
   "source": [
    "\"\"\" re.split ---> This method helps to split string by the occurences of a given pattern. \n",
    "This has done all the splits possible by pattern 'n' in the below code snippet \"\"\"\n",
    "\n",
    "result = re.split(r'n', 'John is playing in the ground.')"
   ]
  },
  {
   "cell_type": "code",
   "execution_count": 35,
   "metadata": {},
   "outputs": [
    {
     "name": "stdout",
     "output_type": "stream",
     "text": [
      "['Joh', ' is playi', 'g i', ' the grou', 'd.']\n"
     ]
    }
   ],
   "source": [
    "\"\"\" Print the result \"\"\"\n",
    "\n",
    "print(result)"
   ]
  },
  {
   "cell_type": "code",
   "execution_count": 36,
   "metadata": {
    "collapsed": true
   },
   "outputs": [],
   "source": [
    "\"\"\" maxsplit is an argument which can be used to restrict this split to once or twice or as many number of times required.\n",
    "The default value of this argument is zero(0) and hence, the above mentioned example splits the strings for the maximum number of times possible. \"\"\"\n",
    "\n",
    "\n",
    "result = re.split(r'n', 'John is playing in the ground.', maxsplit = 1)"
   ]
  },
  {
   "cell_type": "code",
   "execution_count": 38,
   "metadata": {},
   "outputs": [
    {
     "name": "stdout",
     "output_type": "stream",
     "text": [
      "['Joh', ' is playing in the ground.']\n"
     ]
    }
   ],
   "source": [
    "\"\"\" Print the result \"\"\"\n",
    "\n",
    "print(result) "
   ]
  },
  {
   "cell_type": "code",
   "execution_count": 39,
   "metadata": {
    "collapsed": true
   },
   "outputs": [],
   "source": [
    "\"\"\" re.sub --> This method helps to search a pattern and replace with a new sub string. \n",
    "\n",
    "If the pattern is not found, string is returned unchanged. \"\"\"\n",
    "\n",
    "result = re.sub(r'ground', 'field', 'John is playing in the ground.')"
   ]
  },
  {
   "cell_type": "code",
   "execution_count": 41,
   "metadata": {},
   "outputs": [
    {
     "name": "stdout",
     "output_type": "stream",
     "text": [
      "John is playing in the field.\n"
     ]
    }
   ],
   "source": [
    "\"\"\" Print the result \"\"\"\n",
    "\n",
    "print(result)"
   ]
  },
  {
   "cell_type": "code",
   "execution_count": 43,
   "metadata": {
    "collapsed": true
   },
   "outputs": [],
   "source": [
    "\"\"\" re.compile --> This method helps to combine a regular expression pattern into pattern objects, which can be used for pattern matching.\n",
    "\n",
    "It also helps to search a pattern again without rewriting it. \"\"\"\n",
    "\n",
    "\"\"\" Creating a pattern object by calling compile with the pattern \"\"\"\n",
    "\n",
    "pattern = re.compile('playing')"
   ]
  },
  {
   "cell_type": "code",
   "execution_count": 44,
   "metadata": {
    "collapsed": true
   },
   "outputs": [],
   "source": [
    "\"\"\" Searching for the pattern using findall \"\"\"\n",
    "\n",
    "result = pattern.findall('John is playing in the ground.')"
   ]
  },
  {
   "cell_type": "code",
   "execution_count": 46,
   "metadata": {},
   "outputs": [
    {
     "name": "stdout",
     "output_type": "stream",
     "text": [
      "['playing']\n"
     ]
    }
   ],
   "source": [
    "\"\"\" Print the result \"\"\"\n",
    "\n",
    "print(result)"
   ]
  },
  {
   "cell_type": "code",
   "execution_count": 47,
   "metadata": {
    "collapsed": true
   },
   "outputs": [],
   "source": [
    "\"\"\" Searching for the same pattern using findall but in different strings \"\"\"\n",
    "\n",
    "result = pattern.findall('Sam is playing baseball.')"
   ]
  },
  {
   "cell_type": "code",
   "execution_count": 48,
   "metadata": {},
   "outputs": [
    {
     "name": "stdout",
     "output_type": "stream",
     "text": [
      "['playing']\n"
     ]
    }
   ],
   "source": [
    "\"\"\" Print the result \"\"\"\n",
    "\n",
    "print(result)"
   ]
  },
  {
   "cell_type": "code",
   "execution_count": 50,
   "metadata": {},
   "outputs": [],
   "source": [
    "\"\"\" Here are the most commonly used operators that helps to generate an expression \n",
    "\n",
    "(1) . ---> Matches with any single character except newline '\\n'\n",
    "\n",
    "(2) ? ---> Match 0 or 1 occurence of the pattern to its left\n",
    "\n",
    "(3) + ---> 1 or more occurences of the pattern to its left\n",
    "\n",
    "(4) * ---> 0 or more occurences of the pattern to its left\n",
    "\n",
    "(5) \\w ---> Matches with an alphanumeric character and underscore. This is equivalent to the set [a-zA-Z0-9_].\n",
    "\n",
    "(6) \\W ---> Matches with a non-alphanumeric character. This is equivalent to the set [^a-zA-Z0-9_].\n",
    "\n",
    "(7) \\d ---> Matches with digits [0-9]. This is equivalent to the set [0-9].\n",
    "\n",
    "(8) \\D ---> Matches with any non-digit characters. This is equivalent to the set [^0-9].\n",
    "\n",
    "(9) \\s ---> Matches with a single white space character. This is equivalent to the set [\\t\\n\\r\\f\\v]\n",
    "\n",
    "(10) \\S ---> Matches with any non-white space character. This is equivalent to the set [^\\t\\n\\r\\f\\v]\n",
    "\n",
    "(11) \\b ---> Matches the boundary between word and non-word ie matches the empty string but only at the beginning or end of the word.\n",
    "\n",
    "(12) \\B ---> It is opposite to \\b. Matches the empty string but only when it is not at the beginning or end of a word.\n",
    "\n",
    "(13) [..] ---> Matches any single character in square bracket \n",
    "\n",
    "(14) [^..] ---> Matches any single character not in square bracket\n",
    "\n",
    "(15) \\ ---> It is used to match special meaning characters. For example: \\. to match a period or \\+ to match a plus sign.\n",
    "\n",
    "(16) ^ and $ ---> ^ match the start of the string and $ match the end of the string.\n",
    "\n",
    "(17) {n,m} & {m} ---> Matches at least n and at most m occurences of preceding expression. Omitting m specifies a lower bound of zero and omitting n specifies an infinite upper bound.\n",
    "                     {m} -> Specifies exactly m copies of preceding expression should be matched. \n",
    "\n",
    "(18) a|b ---> Matches either a or b\n",
    "\n",
    "(19) () ---> Groups regular expressions and returns matched text\n",
    "\n",
    "(20) \\t,\\n,\\r ---> Matches tab, newline, return\n",
    "\n",
    "\n",
    "Some examples using the above mentioned operators are given below. \"\"\"\n",
    "\n",
    "\"\"\" Extract each character using (1) . (dot) including space\"\"\"\n",
    "\n",
    "result = re.findall(r'.','John is playing in the ground.')\n",
    "\n"
   ]
  },
  {
   "cell_type": "code",
   "execution_count": 52,
   "metadata": {},
   "outputs": [
    {
     "name": "stdout",
     "output_type": "stream",
     "text": [
      "['J', 'o', 'h', 'n', ' ', 'i', 's', ' ', 'p', 'l', 'a', 'y', 'i', 'n', 'g', ' ', 'i', 'n', ' ', 't', 'h', 'e', ' ', 'g', 'r', 'o', 'u', 'n', 'd', '.']\n"
     ]
    }
   ],
   "source": [
    "\"\"\" Print the result. The result includes all characters including spaces ' ' \"\"\"\n",
    "\n",
    "print(result)"
   ]
  },
  {
   "cell_type": "code",
   "execution_count": 53,
   "metadata": {
    "collapsed": true
   },
   "outputs": [],
   "source": [
    "\"\"\" Extract each character using (5) \\w excluding space \"\"\"\n",
    "\n",
    "result = re.findall(r'\\w', 'John is playing in the ground.')"
   ]
  },
  {
   "cell_type": "code",
   "execution_count": 55,
   "metadata": {},
   "outputs": [
    {
     "name": "stdout",
     "output_type": "stream",
     "text": [
      "['J', 'o', 'h', 'n', 'i', 's', 'p', 'l', 'a', 'y', 'i', 'n', 'g', 'i', 'n', 't', 'h', 'e', 'g', 'r', 'o', 'u', 'n', 'd']\n"
     ]
    }
   ],
   "source": [
    "\"\"\" Print the result. The result includes all characters excluding spaces ' ' and .(period) \"\"\"\n",
    "\n",
    "print(result)"
   ]
  },
  {
   "cell_type": "code",
   "execution_count": 57,
   "metadata": {
    "collapsed": true
   },
   "outputs": [],
   "source": [
    "\"\"\" Extract each word using (4) * \"\"\"\n",
    "\n",
    "result = re.findall(r'\\w*', 'John is playing in the ground.')"
   ]
  },
  {
   "cell_type": "code",
   "execution_count": 59,
   "metadata": {},
   "outputs": [
    {
     "name": "stdout",
     "output_type": "stream",
     "text": [
      "['John', '', 'is', '', 'playing', '', 'in', '', 'the', '', 'ground', '', '']\n"
     ]
    }
   ],
   "source": [
    "\"\"\" Print the result. The result includes all words including spaces ' ' \"\"\"\n",
    "\n",
    "print(result)"
   ]
  },
  {
   "cell_type": "code",
   "execution_count": 62,
   "metadata": {
    "collapsed": true
   },
   "outputs": [],
   "source": [
    "\"\"\" Extract each word using (3) + \"\"\"\n",
    "\n",
    "result = re.findall(r'\\w+', 'John is playing in the ground.')\n"
   ]
  },
  {
   "cell_type": "code",
   "execution_count": 68,
   "metadata": {},
   "outputs": [
    {
     "name": "stdout",
     "output_type": "stream",
     "text": [
      "['John']\n"
     ]
    }
   ],
   "source": [
    "\"\"\" Print the result. The result includes all words excluding spaces ' ' \"\"\"\n",
    "\n",
    "print(result)"
   ]
  },
  {
   "cell_type": "code",
   "execution_count": 69,
   "metadata": {
    "collapsed": true
   },
   "outputs": [],
   "source": [
    "\"\"\" Extract each word using (16) ^ \"\"\"\n",
    "\n",
    "result = re.findall(r'^\\w+', 'John is playing in the ground.')"
   ]
  },
  {
   "cell_type": "code",
   "execution_count": 70,
   "metadata": {},
   "outputs": [
    {
     "name": "stdout",
     "output_type": "stream",
     "text": [
      "['John']\n"
     ]
    }
   ],
   "source": [
    "\"\"\" Print the result \"\"\"\n",
    "\n",
    "print(result)"
   ]
  },
  {
   "cell_type": "code",
   "execution_count": 75,
   "metadata": {
    "collapsed": true
   },
   "outputs": [],
   "source": [
    "\"\"\" Extract each word using (16) $ \"\"\"\n",
    "\n",
    "result = re.findall(r'\\w+$', 'John is playing in the ground.')"
   ]
  },
  {
   "cell_type": "code",
   "execution_count": 77,
   "metadata": {},
   "outputs": [
    {
     "name": "stdout",
     "output_type": "stream",
     "text": [
      "[]\n"
     ]
    }
   ],
   "source": [
    "\"\"\" Print the result \"\"\"\n",
    "\n",
    "print(result)"
   ]
  },
  {
   "cell_type": "code",
   "execution_count": 80,
   "metadata": {
    "collapsed": true
   },
   "outputs": [],
   "source": [
    "\"\"\" Extract consecutive two characters of each word, excluding spaces using (5) \\w \"\"\"\n",
    "\n",
    "result = re.findall(r'\\w\\w', 'John is playing in the ground.')"
   ]
  },
  {
   "cell_type": "code",
   "execution_count": 81,
   "metadata": {},
   "outputs": [
    {
     "name": "stdout",
     "output_type": "stream",
     "text": [
      "['Jo', 'hn', 'is', 'pl', 'ay', 'in', 'in', 'th', 'gr', 'ou', 'nd']\n"
     ]
    }
   ],
   "source": [
    "\"\"\" Print the result \"\"\"\n",
    "\n",
    "print(result)"
   ]
  },
  {
   "cell_type": "code",
   "execution_count": 86,
   "metadata": {
    "collapsed": true
   },
   "outputs": [],
   "source": [
    "\"\"\" Extract consecutive two characters only at the start of word boundary using (11) \\b \"\"\"\n",
    "\n",
    "result = re.findall(r'\\b\\w\\w', 'John is playing in the ground.')"
   ]
  },
  {
   "cell_type": "code",
   "execution_count": 88,
   "metadata": {},
   "outputs": [
    {
     "name": "stdout",
     "output_type": "stream",
     "text": [
      "['Jo', 'is', 'pl', 'in', 'th', 'gr']\n"
     ]
    }
   ],
   "source": [
    "\"\"\" Print the result \"\"\"\n",
    "\n",
    "print(result)"
   ]
  },
  {
   "cell_type": "code",
   "execution_count": 93,
   "metadata": {
    "collapsed": true
   },
   "outputs": [],
   "source": [
    "\"\"\" Extract email domains - all characters after '@' \"\"\"\n",
    "\n",
    "result = re.findall(r'@\\w+', 'john.paul@gmail.com, sam_223@yahoo.com, robin134@hotmail.com')"
   ]
  },
  {
   "cell_type": "code",
   "execution_count": 95,
   "metadata": {},
   "outputs": [
    {
     "name": "stdout",
     "output_type": "stream",
     "text": [
      "['@gmail', '@yahoo', '@hotmail']\n"
     ]
    }
   ],
   "source": [
    "\"\"\" Print the result, note - .com has been excluded \"\"\"\n",
    "\n",
    "print(result)"
   ]
  },
  {
   "cell_type": "code",
   "execution_count": 96,
   "metadata": {
    "collapsed": true
   },
   "outputs": [],
   "source": [
    "\"\"\" Extract email domains - all characters after '@' including .com \"\"\"\n",
    "\n",
    "result = re.findall(r'@\\w+.\\w+', 'john.paul@gmail.com, sam_223@yahoo.com, robin134@hotmail.com')"
   ]
  },
  {
   "cell_type": "code",
   "execution_count": 98,
   "metadata": {},
   "outputs": [
    {
     "name": "stdout",
     "output_type": "stream",
     "text": [
      "['@gmail.com', '@yahoo.com', '@hotmail.com']\n"
     ]
    }
   ],
   "source": [
    "\"\"\" Print the result \"\"\"\n",
    "\n",
    "print(result)"
   ]
  },
  {
   "cell_type": "code",
   "execution_count": 102,
   "metadata": {
    "collapsed": true
   },
   "outputs": [],
   "source": [
    "\"\"\" Extract only email domain names using (19) () \"\"\"\n",
    "\n",
    "result = re.findall(r'@\\w+.(\\w+)', 'john.paul@gmail.com, sam_223@yahoo.com, robin134@hotmail.com')"
   ]
  },
  {
   "cell_type": "code",
   "execution_count": 105,
   "metadata": {},
   "outputs": [
    {
     "name": "stdout",
     "output_type": "stream",
     "text": [
      "['com', 'com', 'com']\n"
     ]
    }
   ],
   "source": [
    "\"\"\" Print the result \"\"\"\n",
    "\n",
    "print(result)"
   ]
  },
  {
   "cell_type": "code",
   "execution_count": 106,
   "metadata": {
    "collapsed": true
   },
   "outputs": [],
   "source": [
    "\"\"\" Extract dates from the strings using (7) \\d & (17) {m} \"\"\"\n",
    "\n",
    "\n",
    "result = re.findall(r'\\d{2}-\\d{2}-\\d{4}', 'John 10001 12-12-1982, Sam 10002 08-08-2000, Robin 10003 10-10-2010')"
   ]
  },
  {
   "cell_type": "code",
   "execution_count": 107,
   "metadata": {},
   "outputs": [
    {
     "name": "stdout",
     "output_type": "stream",
     "text": [
      "['12-12-1982', '08-08-2000', '10-10-2010']\n"
     ]
    }
   ],
   "source": [
    "\"\"\" Print the result \"\"\"\n",
    "\n",
    "print(result)"
   ]
  },
  {
   "cell_type": "code",
   "execution_count": 108,
   "metadata": {
    "collapsed": true
   },
   "outputs": [],
   "source": [
    "\"\"\" Extract only year from date using (19) () \"\"\"\n",
    "\n",
    "result = re.findall(r'\\d{2}-\\d{2}-(\\d{4})', 'John 10001 12-12-1982, Sam 10002 08-08-2000, Robin 10003 10-10-2010')"
   ]
  },
  {
   "cell_type": "code",
   "execution_count": 109,
   "metadata": {},
   "outputs": [
    {
     "name": "stdout",
     "output_type": "stream",
     "text": [
      "['1982', '2000', '2010']\n"
     ]
    }
   ],
   "source": [
    "\"\"\" Print the result \"\"\"\n",
    "\n",
    "print(result)"
   ]
  },
  {
   "cell_type": "code",
   "execution_count": 110,
   "metadata": {
    "collapsed": true
   },
   "outputs": [],
   "source": [
    "\"\"\" Extract all words of a string those starts with vowel \"\"\"\n",
    "\n",
    "\n",
    "result = re.findall(r'\\b[aeiouAEIOU]\\w+', 'John is playing in the ground.')"
   ]
  },
  {
   "cell_type": "code",
   "execution_count": 111,
   "metadata": {},
   "outputs": [
    {
     "name": "stdout",
     "output_type": "stream",
     "text": [
      "['is', 'in']\n"
     ]
    }
   ],
   "source": [
    "\"\"\" Print the result \"\"\"\n",
    "\n",
    "print(result)"
   ]
  },
  {
   "cell_type": "code",
   "execution_count": 113,
   "metadata": {},
   "outputs": [
    {
     "name": "stdout",
     "output_type": "stream",
     "text": [
      "yes\n",
      "no\n",
      "no\n"
     ]
    }
   ],
   "source": [
    "\"\"\" Validate 10 digits phone number which starts with either 8 or 9\"\"\"\n",
    "\n",
    "list = ['9999999999', '999999-999', '99999x9999']\n",
    "\n",
    "for val in list:\n",
    "    \n",
    "    if re.match(r'[8-9]{1}[0-9]{9}', val) and len(val) == 10:\n",
    "        \n",
    "        print('yes')\n",
    "        \n",
    "    else:\n",
    "        \n",
    "        print('no')\n",
    "        \n",
    "        \n",
    "        "
   ]
  },
  {
   "cell_type": "code",
   "execution_count": 117,
   "metadata": {},
   "outputs": [
    {
     "name": "stdout",
     "output_type": "stream",
     "text": [
      "['abcdef', 'ghij', 'klmno', 'pqr', 'st']\n"
     ]
    }
   ],
   "source": [
    "\"\"\" Split a string with multiple delimiters \"\"\"\n",
    "\n",
    "line = 'abcdef ghij,klmno;pqr st'\n",
    "\n",
    "result = re.split(r'[\\s,;]', line)\n",
    "\n",
    "print(result)"
   ]
  },
  {
   "cell_type": "code",
   "execution_count": 119,
   "metadata": {},
   "outputs": [
    {
     "name": "stdout",
     "output_type": "stream",
     "text": [
      "abcdef ghij klmno pqr st\n"
     ]
    }
   ],
   "source": [
    "\"\"\" Replace delimiters with space ' ' \"\"\"\n",
    "\n",
    "line = 'abcdef ghij,klmno;pqr st'\n",
    "\n",
    "result = re.sub(r'[\\s,;]',' ', line)\n",
    "\n",
    "print(result)"
   ]
  }
 ],
 "metadata": {
  "kernelspec": {
   "display_name": "Python 3",
   "language": "python",
   "name": "python3"
  },
  "language_info": {
   "codemirror_mode": {
    "name": "ipython",
    "version": 3
   },
   "file_extension": ".py",
   "mimetype": "text/x-python",
   "name": "python",
   "nbconvert_exporter": "python",
   "pygments_lexer": "ipython3",
   "version": "3.6.1"
  }
 },
 "nbformat": 4,
 "nbformat_minor": 2
}
